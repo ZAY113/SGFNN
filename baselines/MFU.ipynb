{
 "cells": [
  {
   "cell_type": "code",
   "execution_count": 1,
   "metadata": {},
   "outputs": [],
   "source": [
    "import ast \n",
    "import pandas as pd\n",
    "\n",
    "df_usage = pd.read_csv('data/baseline.txt', sep='\\t')\n",
    "df_usage['app_seq'] = df_usage['app_seq'].apply(ast.literal_eval)\n",
    "df_usage['recent_apps'] = df_usage['recent_apps'].apply(ast.literal_eval)\n",
    "df_usage['time'] = df_usage['time'].apply(lambda x: str(x))"
   ]
  },
  {
   "cell_type": "markdown",
   "metadata": {},
   "source": [
    "### 计算MFU"
   ]
  },
  {
   "cell_type": "code",
   "execution_count": 2,
   "metadata": {},
   "outputs": [
    {
     "name": "stderr",
     "output_type": "stream",
     "text": [
      "100%|██████████| 908770/908770 [04:13<00:00, 3591.14it/s]\n"
     ]
    }
   ],
   "source": [
    "import tqdm\n",
    "from collections import Counter\n",
    "\n",
    "df_mfu = df_usage.copy()\n",
    "\n",
    "counter = Counter()\n",
    "fu_apps = []\n",
    "for i in tqdm.tqdm(range(len(df_mfu))):\n",
    "    user = df_mfu.iloc[i]['user']\n",
    "    app = df_mfu.iloc[i]['app']\n",
    "    if user not in counter:\n",
    "        counter[user] = Counter(df_mfu.iloc[i]['app_seq'])\n",
    "\n",
    "    fu_apps.append([x[0] for x in counter[user].most_common(10)])\n",
    "\n",
    "    if app not in counter[user]:\n",
    "        counter[user][app] = 1\n",
    "    else:\n",
    "        counter[user][app] += 1\n",
    "\n",
    "df_mfu['mfu'] = fu_apps"
   ]
  },
  {
   "cell_type": "markdown",
   "metadata": {},
   "source": [
    "### 切分训练测试集"
   ]
  },
  {
   "cell_type": "code",
   "execution_count": 3,
   "metadata": {},
   "outputs": [
    {
     "data": {
      "text/html": [
       "<div>\n",
       "<style scoped>\n",
       "    .dataframe tbody tr th:only-of-type {\n",
       "        vertical-align: middle;\n",
       "    }\n",
       "\n",
       "    .dataframe tbody tr th {\n",
       "        vertical-align: top;\n",
       "    }\n",
       "\n",
       "    .dataframe thead th {\n",
       "        text-align: right;\n",
       "    }\n",
       "</style>\n",
       "<table border=\"1\" class=\"dataframe\">\n",
       "  <thead>\n",
       "    <tr style=\"text-align: right;\">\n",
       "      <th></th>\n",
       "      <th>user</th>\n",
       "      <th>time</th>\n",
       "      <th>app</th>\n",
       "      <th>app_seq</th>\n",
       "      <th>recent_apps</th>\n",
       "      <th>mfu</th>\n",
       "    </tr>\n",
       "  </thead>\n",
       "  <tbody>\n",
       "    <tr>\n",
       "      <th>324648</th>\n",
       "      <td>722</td>\n",
       "      <td>201604250612</td>\n",
       "      <td>237</td>\n",
       "      <td>[80, 1554, 411, 1889]</td>\n",
       "      <td>[54, 46, 1353, 1466, 1, 392, 80, 1554, 411, 1889]</td>\n",
       "      <td>[1, 237, 547, 439, 1889, 9, 717, 80, 29, 1963]</td>\n",
       "    </tr>\n",
       "    <tr>\n",
       "      <th>275431</th>\n",
       "      <td>667</td>\n",
       "      <td>201604211033</td>\n",
       "      <td>1</td>\n",
       "      <td>[1, 5, 371, 1]</td>\n",
       "      <td>[1, 1, 1, 72, 1, 1, 1, 5, 371, 1]</td>\n",
       "      <td>[2, 1, 5, 77, 202, 235, 308, 398, 252, 80]</td>\n",
       "    </tr>\n",
       "    <tr>\n",
       "      <th>659336</th>\n",
       "      <td>942</td>\n",
       "      <td>201604210952</td>\n",
       "      <td>384</td>\n",
       "      <td>[208, 29, 381, 389]</td>\n",
       "      <td>[252, 105, 210, 126, 202, 287, 208, 29, 381, 389]</td>\n",
       "      <td>[2, 1, 5, 77, 252, 10, 202, 4, 398, 9]</td>\n",
       "    </tr>\n",
       "    <tr>\n",
       "      <th>902536</th>\n",
       "      <td>994</td>\n",
       "      <td>201604261718</td>\n",
       "      <td>5</td>\n",
       "      <td>[379, 70, 688, 586]</td>\n",
       "      <td>[1, 587, 126, 948, 255, 688, 379, 70, 688, 586]</td>\n",
       "      <td>[26, 586, 37, 5, 1, 31, 195, 259, 1243, 184]</td>\n",
       "    </tr>\n",
       "    <tr>\n",
       "      <th>245546</th>\n",
       "      <td>615</td>\n",
       "      <td>201604231510</td>\n",
       "      <td>2</td>\n",
       "      <td>[77, 77, 2, 202]</td>\n",
       "      <td>[426, 1, 2, 77, 202, 2, 77, 77, 2, 202]</td>\n",
       "      <td>[1, 2, 12, 19, 53, 77, 202, 72, 252, 883]</td>\n",
       "    </tr>\n",
       "  </tbody>\n",
       "</table>\n",
       "</div>"
      ],
      "text/plain": [
       "        user          time  app                app_seq  \\\n",
       "324648   722  201604250612  237  [80, 1554, 411, 1889]   \n",
       "275431   667  201604211033    1         [1, 5, 371, 1]   \n",
       "659336   942  201604210952  384    [208, 29, 381, 389]   \n",
       "902536   994  201604261718    5    [379, 70, 688, 586]   \n",
       "245546   615  201604231510    2       [77, 77, 2, 202]   \n",
       "\n",
       "                                              recent_apps  \\\n",
       "324648  [54, 46, 1353, 1466, 1, 392, 80, 1554, 411, 1889]   \n",
       "275431                  [1, 1, 1, 72, 1, 1, 1, 5, 371, 1]   \n",
       "659336  [252, 105, 210, 126, 202, 287, 208, 29, 381, 389]   \n",
       "902536    [1, 587, 126, 948, 255, 688, 379, 70, 688, 586]   \n",
       "245546            [426, 1, 2, 77, 202, 2, 77, 77, 2, 202]   \n",
       "\n",
       "                                                   mfu  \n",
       "324648  [1, 237, 547, 439, 1889, 9, 717, 80, 29, 1963]  \n",
       "275431      [2, 1, 5, 77, 202, 235, 308, 398, 252, 80]  \n",
       "659336          [2, 1, 5, 77, 252, 10, 202, 4, 398, 9]  \n",
       "902536    [26, 586, 37, 5, 1, 31, 195, 259, 1243, 184]  \n",
       "245546       [1, 2, 12, 19, 53, 77, 202, 72, 252, 883]  "
      ]
     },
     "execution_count": 3,
     "metadata": {},
     "output_type": "execute_result"
    }
   ],
   "source": [
    "from sklearn.model_selection import train_test_split\n",
    "\n",
    "df_mfu_train, df_mfu_test = train_test_split(df_mfu, test_size=0.2, random_state=2021, stratify=df_mfu['user'])\n",
    "df_mfu_test.head()"
   ]
  },
  {
   "cell_type": "markdown",
   "metadata": {},
   "source": [
    "### 用MFU对测试集预测，计算Recall@1，Recall@5，Recall@10"
   ]
  },
  {
   "cell_type": "code",
   "execution_count": 4,
   "metadata": {},
   "outputs": [
    {
     "name": "stderr",
     "output_type": "stream",
     "text": [
      "100%|██████████| 181754/181754 [00:39<00:00, 4621.43it/s]"
     ]
    },
    {
     "name": "stdout",
     "output_type": "stream",
     "text": [
      "Recall@1: 0.15946829230718443\n",
      "Recall@5: 0.3928716837043476\n",
      "Recall@10: 0.5103326474245409\n"
     ]
    },
    {
     "name": "stderr",
     "output_type": "stream",
     "text": [
      "\n"
     ]
    }
   ],
   "source": [
    "correct = [0, 0, 0]\n",
    "for i in tqdm.tqdm(range(len(df_mfu_test))):\n",
    "    mfu = df_mfu_test.iloc[i]['mfu']\n",
    "    app = df_mfu_test.iloc[i]['app']\n",
    "    if app == mfu[0]:\n",
    "        correct = [x+1 for x in correct]\n",
    "    elif app in mfu[:5]:\n",
    "        correct[1] += 1\n",
    "        correct[2] += 1\n",
    "    elif app in mfu:\n",
    "        correct[2] += 1 \n",
    "    else:\n",
    "        pass\n",
    "\n",
    "total = len(df_mfu_test)\n",
    "print(\"Recall@1: {}\".format(correct[0] / total))\n",
    "print(\"Recall@5: {}\".format(correct[1] / total))\n",
    "print(\"Recall@10: {}\".format(correct[2] / total))"
   ]
  },
  {
   "cell_type": "code",
   "execution_count": null,
   "metadata": {},
   "outputs": [],
   "source": []
  }
 ],
 "metadata": {
  "kernelspec": {
   "display_name": "Python 3.8.10 ('sustech')",
   "language": "python",
   "name": "python3"
  },
  "language_info": {
   "codemirror_mode": {
    "name": "ipython",
    "version": 3
   },
   "file_extension": ".py",
   "mimetype": "text/x-python",
   "name": "python",
   "nbconvert_exporter": "python",
   "pygments_lexer": "ipython3",
   "version": "3.8.10"
  },
  "orig_nbformat": 4,
  "vscode": {
   "interpreter": {
    "hash": "0b110fdb252ba91abc1742562d19962b18e53ac9e2d9282be395e4f2a0a5c834"
   }
  }
 },
 "nbformat": 4,
 "nbformat_minor": 2
}
