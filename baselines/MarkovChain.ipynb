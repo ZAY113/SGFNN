{
 "cells": [
  {
   "cell_type": "code",
   "execution_count": 1,
   "metadata": {},
   "outputs": [],
   "source": [
    "import ast \n",
    "import pandas as pd\n",
    "\n",
    "df_usage = pd.read_csv('data/baseline.txt', sep='\\t')\n",
    "df_usage['app_seq'] = df_usage['app_seq'].apply(ast.literal_eval)\n",
    "df_usage['recent_apps'] = df_usage['recent_apps'].apply(ast.literal_eval)\n",
    "df_usage['time'] = df_usage['time'].apply(lambda x: str(x))"
   ]
  },
  {
   "cell_type": "markdown",
   "metadata": {},
   "source": [
    "### 切分训练测试集"
   ]
  },
  {
   "cell_type": "code",
   "execution_count": 2,
   "metadata": {},
   "outputs": [],
   "source": [
    "from sklearn.model_selection import train_test_split\n",
    "\n",
    "df_mc = df_usage.copy()\n",
    "df_mc['time'] = df_mc['time'].apply(int)\n",
    "train, test = train_test_split(df_mc, test_size=0.2, random_state=2021, stratify=df_mc['user'])"
   ]
  },
  {
   "cell_type": "markdown",
   "metadata": {},
   "source": [
    "### 计算{用户：app}字典"
   ]
  },
  {
   "cell_type": "code",
   "execution_count": 3,
   "metadata": {},
   "outputs": [],
   "source": [
    "user_apps = df_usage.groupby('user')['app'].apply(set).apply(list).reset_index()\n",
    "user_app_dict = dict(zip(user_apps['user'], user_apps['app']))"
   ]
  },
  {
   "cell_type": "markdown",
   "metadata": {},
   "source": [
    "### 用MarkovChain训练，并对测试集预测，\n",
    "### 计算Recall@1，Recall@5，Recall@10"
   ]
  },
  {
   "cell_type": "code",
   "execution_count": 4,
   "metadata": {},
   "outputs": [
    {
     "name": "stderr",
     "output_type": "stream",
     "text": [
      "100%|██████████| 748/748 [03:56<00:00,  3.16it/s]"
     ]
    },
    {
     "name": "stdout",
     "output_type": "stream",
     "text": [
      "[31330, 82397, 101801]\n",
      "Recall@1: 0.17237584867458214\n",
      "Recall@5: 0.45334353026618396\n",
      "Recall@10: 0.5601032164354017\n"
     ]
    },
    {
     "name": "stderr",
     "output_type": "stream",
     "text": [
      "\n"
     ]
    }
   ],
   "source": [
    "import tqdm\n",
    "import random\n",
    "import numpy as np\n",
    "\n",
    "chain = {}\n",
    "\n",
    "users = df_mc['user'].unique()\n",
    "\n",
    "correct = [0, 0, 0]\n",
    "\n",
    "for user in tqdm.tqdm(users):\n",
    "    chain[user] = {}\n",
    "\n",
    "    # make markov chain\n",
    "    train_per_user = train[train['user']==user]\n",
    "    for i in range(len(train_per_user)):\n",
    "        current = train_per_user.iloc[i]['app']\n",
    "        last = train_per_user.iloc[i]['app_seq'][-1]\n",
    "\n",
    "        if last not in chain[user]:\n",
    "            chain[user].update({last: {current: 1}})\n",
    "            continue\n",
    "            \n",
    "        if current not in chain[user][last]:\n",
    "            chain[user][last].update({current: 1})\n",
    "        else:\n",
    "            chain[user][last].update({current: chain[user][last][current] + 1})\n",
    "\n",
    "    # normalization, 得到转移概率\n",
    "    for app, transition in chain[user].items():\n",
    "        transition = dict((key, value / sum(transition.values())) for key, value in transition.items())\n",
    "        chain[user][app] = transition\n",
    "    \n",
    "    # test\n",
    "    test_per_user = test[test['user'] == user]\n",
    "\n",
    "    for i in range(len(test_per_user)):\n",
    "        last = test_per_user.iloc[i]['app_seq'][-1]\n",
    "\n",
    "        if last not in chain[user]:\n",
    "            preds = random.sample(user_app_dict[user], min(len(user_app_dict[user]), 10))\n",
    "        else:\n",
    "            transitions = chain[user][last]\n",
    "            preds = np.random.choice(list(transitions.keys()), size=min(10, len(transitions)), replace=False, p=list(transitions.values()))\n",
    "            preds = preds.tolist()\n",
    "        \n",
    "        answer = test_per_user.iloc[i]['app']\n",
    "\n",
    "        if answer == preds[0]:\n",
    "            correct[0] += 1\n",
    "            correct[1] += 1\n",
    "            correct[2] += 1\n",
    "        elif answer in preds[:5]:\n",
    "            correct[1] += 1\n",
    "            correct[2] += 1\n",
    "        elif answer in preds:\n",
    "            correct[2] += 1\n",
    "        else:\n",
    "            pass\n",
    "    \n",
    "print(correct)\n",
    "print(\"Recall@1: {}\".format(correct[0] / len(test)))\n",
    "print(\"Recall@5: {}\".format(correct[1] / len(test)))\n",
    "print(\"Recall@10: {}\".format(correct[2] / len(test)))"
   ]
  },
  {
   "cell_type": "code",
   "execution_count": null,
   "metadata": {},
   "outputs": [],
   "source": []
  }
 ],
 "metadata": {
  "kernelspec": {
   "display_name": "Python 3.8.10 ('sustech')",
   "language": "python",
   "name": "python3"
  },
  "language_info": {
   "codemirror_mode": {
    "name": "ipython",
    "version": 3
   },
   "file_extension": ".py",
   "mimetype": "text/x-python",
   "name": "python",
   "nbconvert_exporter": "python",
   "pygments_lexer": "ipython3",
   "version": "3.8.10"
  },
  "orig_nbformat": 4,
  "vscode": {
   "interpreter": {
    "hash": "0b110fdb252ba91abc1742562d19962b18e53ac9e2d9282be395e4f2a0a5c834"
   }
  }
 },
 "nbformat": 4,
 "nbformat_minor": 2
}
