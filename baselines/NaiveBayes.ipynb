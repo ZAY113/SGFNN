{
 "cells": [
  {
   "cell_type": "code",
   "execution_count": 1,
   "metadata": {},
   "outputs": [],
   "source": [
    "import ast \n",
    "import pandas as pd\n",
    "\n",
    "df_usage = pd.read_csv('data/baseline.txt', sep='\\t')\n",
    "df_usage['app_seq'] = df_usage['app_seq'].apply(ast.literal_eval)\n",
    "df_usage['recent_apps'] = df_usage['recent_apps'].apply(ast.literal_eval)\n",
    "df_usage['time'] = df_usage['time'].apply(lambda x: str(x))"
   ]
  },
  {
   "cell_type": "markdown",
   "metadata": {},
   "source": [
    "### 计算朴素贝叶斯的输入特征"
   ]
  },
  {
   "cell_type": "code",
   "execution_count": 3,
   "metadata": {},
   "outputs": [
    {
     "data": {
      "text/html": [
       "<div>\n",
       "<style scoped>\n",
       "    .dataframe tbody tr th:only-of-type {\n",
       "        vertical-align: middle;\n",
       "    }\n",
       "\n",
       "    .dataframe tbody tr th {\n",
       "        vertical-align: top;\n",
       "    }\n",
       "\n",
       "    .dataframe thead th {\n",
       "        text-align: right;\n",
       "    }\n",
       "</style>\n",
       "<table border=\"1\" class=\"dataframe\">\n",
       "  <thead>\n",
       "    <tr style=\"text-align: right;\">\n",
       "      <th></th>\n",
       "      <th>user</th>\n",
       "      <th>time</th>\n",
       "      <th>app</th>\n",
       "      <th>app_seq</th>\n",
       "      <th>recent_apps</th>\n",
       "      <th>nb_input</th>\n",
       "    </tr>\n",
       "  </thead>\n",
       "  <tbody>\n",
       "    <tr>\n",
       "      <th>0</th>\n",
       "      <td>0</td>\n",
       "      <td>0_08</td>\n",
       "      <td>612</td>\n",
       "      <td>[361, 361, 31, 360]</td>\n",
       "      <td>[361, 361, 31, 360]</td>\n",
       "      <td>0_08 361 361 31 360</td>\n",
       "    </tr>\n",
       "    <tr>\n",
       "      <th>1</th>\n",
       "      <td>0</td>\n",
       "      <td>0_08</td>\n",
       "      <td>31</td>\n",
       "      <td>[361, 31, 360, 612]</td>\n",
       "      <td>[361, 361, 31, 360, 612]</td>\n",
       "      <td>0_08 361 31 360 612</td>\n",
       "    </tr>\n",
       "    <tr>\n",
       "      <th>2</th>\n",
       "      <td>0</td>\n",
       "      <td>0_08</td>\n",
       "      <td>360</td>\n",
       "      <td>[31, 360, 612, 31]</td>\n",
       "      <td>[361, 361, 31, 360, 612, 31]</td>\n",
       "      <td>0_08 31 360 612 31</td>\n",
       "    </tr>\n",
       "    <tr>\n",
       "      <th>3</th>\n",
       "      <td>0</td>\n",
       "      <td>0_08</td>\n",
       "      <td>361</td>\n",
       "      <td>[360, 612, 31, 360]</td>\n",
       "      <td>[361, 361, 31, 360, 612, 31, 360]</td>\n",
       "      <td>0_08 360 612 31 360</td>\n",
       "    </tr>\n",
       "    <tr>\n",
       "      <th>4</th>\n",
       "      <td>0</td>\n",
       "      <td>0_08</td>\n",
       "      <td>1</td>\n",
       "      <td>[612, 31, 360, 361]</td>\n",
       "      <td>[361, 361, 31, 360, 612, 31, 360, 361]</td>\n",
       "      <td>0_08 612 31 360 361</td>\n",
       "    </tr>\n",
       "  </tbody>\n",
       "</table>\n",
       "</div>"
      ],
      "text/plain": [
       "   user  time  app              app_seq  \\\n",
       "0     0  0_08  612  [361, 361, 31, 360]   \n",
       "1     0  0_08   31  [361, 31, 360, 612]   \n",
       "2     0  0_08  360   [31, 360, 612, 31]   \n",
       "3     0  0_08  361  [360, 612, 31, 360]   \n",
       "4     0  0_08    1  [612, 31, 360, 361]   \n",
       "\n",
       "                              recent_apps             nb_input  \n",
       "0                     [361, 361, 31, 360]  0_08 361 361 31 360  \n",
       "1                [361, 361, 31, 360, 612]  0_08 361 31 360 612  \n",
       "2            [361, 361, 31, 360, 612, 31]   0_08 31 360 612 31  \n",
       "3       [361, 361, 31, 360, 612, 31, 360]  0_08 360 612 31 360  \n",
       "4  [361, 361, 31, 360, 612, 31, 360, 361]  0_08 612 31 360 361  "
      ]
     },
     "execution_count": 3,
     "metadata": {},
     "output_type": "execute_result"
    }
   ],
   "source": [
    "import datetime\n",
    "\n",
    "df_nb = df_usage.copy()\n",
    "\n",
    "def prep_time(t):\n",
    "    t = t[:-2]\n",
    "    weekday = datetime.datetime.strptime(t[:-2], '%Y%m%d').weekday()\n",
    "    if weekday >= 5:\n",
    "        weekday = '1'\n",
    "    else:\n",
    "        weekday = '0'\n",
    "    return '{}_{}'.format(weekday, t[-2:])\n",
    "\n",
    "df_nb['time'] = df_nb['time'].apply(lambda x: prep_time(x))\n",
    "\n",
    "app_seq_str = df_nb['app_seq'].apply(lambda app_seq: ' '.join([str(app) for app in app_seq]))\n",
    "df_nb['nb_input'] = df_nb['time'] + ' ' + app_seq_str\n",
    "\n",
    "df_nb.head()"
   ]
  },
  {
   "cell_type": "markdown",
   "metadata": {},
   "source": [
    "### 切分训练/测试集"
   ]
  },
  {
   "cell_type": "code",
   "execution_count": 9,
   "metadata": {},
   "outputs": [],
   "source": [
    "from sklearn.model_selection import train_test_split\n",
    "\n",
    "train, test = train_test_split(df_nb, test_size=0.2, random_state=2021, stratify=df_nb['user'])"
   ]
  },
  {
   "cell_type": "code",
   "execution_count": 11,
   "metadata": {},
   "outputs": [
    {
     "name": "stdout",
     "output_type": "stream",
     "text": [
      "(727016, 6)\n",
      "(181754, 6)\n"
     ]
    }
   ],
   "source": [
    "# 8/2\n",
    "print(train.shape)\n",
    "print(test.shape)"
   ]
  },
  {
   "cell_type": "markdown",
   "metadata": {},
   "source": [
    "### 用朴素贝叶斯分类器训练，并对测试集预测，\n",
    "### 计算Recall@1，Recall@5，Recall@10"
   ]
  },
  {
   "cell_type": "code",
   "execution_count": 13,
   "metadata": {},
   "outputs": [
    {
     "name": "stdout",
     "output_type": "stream",
     "text": [
      "[44903, 101800, 124394]\n",
      "Recall@1: 0.24705370995961576\n",
      "Recall@5: 0.5600977144932161\n",
      "Recall@10: 0.6844085962344708\n"
     ]
    }
   ],
   "source": [
    "from sklearn.feature_extraction.text import CountVectorizer\n",
    "from sklearn.naive_bayes import MultinomialNB\n",
    "import numpy as np\n",
    "\n",
    "users = df_nb['user'].unique()\n",
    "correct = [0, 0, 0]\n",
    "\n",
    "for user in users:\n",
    "    df_train = train[train['user']==user]\n",
    "    df_test = test[test['user']==user]\n",
    "\n",
    "    train_x = df_train['nb_input'].values.tolist()\n",
    "    train_y = df_train['app'].values.tolist()\n",
    "\n",
    "    cv = CountVectorizer()\n",
    "    cv_train_x = cv.fit_transform(train_x)\n",
    "    NBClassifier = MultinomialNB()\n",
    "    NBClassifier.fit(cv_train_x, train_y)\n",
    "\n",
    "    test_x = df_test['nb_input'].values.tolist()\n",
    "    test_y = df_test['app'].values.tolist()\n",
    "\n",
    "    cv_test_x = cv.transform(test_x)\n",
    "    probs = NBClassifier.predict_proba(cv_test_x)\n",
    "    topn = np.argsort(probs, axis=1)[:, -10:]\n",
    "    topn = np.flip(topn, axis=1)    # 左右翻转数组\n",
    "    topn = NBClassifier.classes_[topn]\n",
    "\n",
    "    for answer, predictions in zip(test_y, topn):\n",
    "        if answer == predictions[0]:\n",
    "            correct[0] += 1\n",
    "            correct[1] += 1\n",
    "            correct[2] += 1\n",
    "        elif answer in predictions[:5]:\n",
    "            correct[1] += 1\n",
    "            correct[2] += 1\n",
    "        elif answer in predictions:\n",
    "            correct[2] += 1\n",
    "        else:\n",
    "            pass\n",
    "\n",
    "print(correct)\n",
    "print(\"Recall@1: {}\".format(correct[0] / len(test)))\n",
    "print(\"Recall@5: {}\".format(correct[1] / len(test)))\n",
    "print(\"Recall@10: {}\".format(correct[2] / len(test)))"
   ]
  },
  {
   "cell_type": "code",
   "execution_count": null,
   "metadata": {},
   "outputs": [],
   "source": []
  }
 ],
 "metadata": {
  "kernelspec": {
   "display_name": "Python 3.8.10 ('sustech')",
   "language": "python",
   "name": "python3"
  },
  "language_info": {
   "codemirror_mode": {
    "name": "ipython",
    "version": 3
   },
   "file_extension": ".py",
   "mimetype": "text/x-python",
   "name": "python",
   "nbconvert_exporter": "python",
   "pygments_lexer": "ipython3",
   "version": "3.8.10 (default, May 19 2021, 13:12:57) [MSC v.1916 64 bit (AMD64)]"
  },
  "orig_nbformat": 4,
  "vscode": {
   "interpreter": {
    "hash": "0b110fdb252ba91abc1742562d19962b18e53ac9e2d9282be395e4f2a0a5c834"
   }
  }
 },
 "nbformat": 4,
 "nbformat_minor": 2
}
