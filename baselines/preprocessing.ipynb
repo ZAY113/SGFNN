{
 "cells": [
  {
   "cell_type": "code",
   "execution_count": 6,
   "metadata": {},
   "outputs": [],
   "source": [
    "import datetime\n",
    "\n",
    "import pandas as pd\n",
    "import tqdm"
   ]
  },
  {
   "cell_type": "code",
   "execution_count": 2,
   "metadata": {},
   "outputs": [],
   "source": [
    "df_usage = pd.read_csv('../data/App_usage_trace.txt', sep=' ', names=['user', 'time', 'location', 'app', 'traffic'])\n",
    "df_usage = df_usage[['user', 'time', 'app']]\n",
    "\n",
    "# merging the consecutive usage records of the same app in one minute\n",
    "df_usage['time'] = df_usage['time'].apply(lambda x: str(x)[:-2])\n",
    "df_usage.drop_duplicates(inplace=True)\n",
    "\n",
    "# delete apps used less than 10 times for all users\n",
    "df_usage = df_usage[df_usage.groupby('app')['app'].transform('count').ge(10)]"
   ]
  },
  {
   "cell_type": "code",
   "execution_count": 3,
   "metadata": {},
   "outputs": [
    {
     "name": "stderr",
     "output_type": "stream",
     "text": [
      "100%|██████████| 1123955/1123955 [06:30<00:00, 2877.10it/s]\n"
     ]
    }
   ],
   "source": [
    "prev_user = -1\n",
    "prev_time = -1\n",
    "app_seq = []\n",
    "all_app_seq= []\n",
    "\n",
    "seq_length = 4\n",
    "\n",
    "recent_apps = []\n",
    "all_recent_apps = []\n",
    "\n",
    "# df_usage is already sorted based on user and time sequence\n",
    "\n",
    "for i in tqdm.tqdm(range(len(df_usage))):\n",
    "    user = df_usage.iloc[i]['user']\n",
    "    app = df_usage.iloc[i]['app']\n",
    "    time = df_usage.iloc[i]['time']\n",
    "    time = datetime.datetime.strptime(time, '%Y%m%d%H%M')\n",
    "    \n",
    "    if prev_user != user:\n",
    "        app_seq = [app]\n",
    "        all_app_seq.append([])\n",
    "        recent_apps = [app]\n",
    "        all_recent_apps.append([])\n",
    "        \n",
    "    else:\n",
    "        # same sequence if the time gap between them is equal to or less than 7 mins\n",
    "        if (time - prev_time).total_seconds()//60 <= 7:\n",
    "            if len(app_seq) == seq_length:\n",
    "                all_app_seq.append(app_seq)\n",
    "                app_seq = app_seq[1:] + [app]\n",
    "                \n",
    "            else:\n",
    "                app_seq.append(app)\n",
    "                all_app_seq.append([])\n",
    "        else:\n",
    "            app_seq = [app]\n",
    "            all_app_seq.append([])\n",
    "        \n",
    "        # recently used apps\n",
    "        all_recent_apps.append(recent_apps[:])\n",
    "\n",
    "        recent_apps.append(app)\n",
    "        if len(recent_apps) > 10:\n",
    "            recent_apps.pop(0)\n",
    "        \n",
    "    \n",
    "    prev_user = user\n",
    "    prev_time = time"
   ]
  },
  {
   "cell_type": "code",
   "execution_count": 4,
   "metadata": {},
   "outputs": [
    {
     "data": {
      "text/html": [
       "<div>\n",
       "<style scoped>\n",
       "    .dataframe tbody tr th:only-of-type {\n",
       "        vertical-align: middle;\n",
       "    }\n",
       "\n",
       "    .dataframe tbody tr th {\n",
       "        vertical-align: top;\n",
       "    }\n",
       "\n",
       "    .dataframe thead th {\n",
       "        text-align: right;\n",
       "    }\n",
       "</style>\n",
       "<table border=\"1\" class=\"dataframe\">\n",
       "  <thead>\n",
       "    <tr style=\"text-align: right;\">\n",
       "      <th></th>\n",
       "      <th>user</th>\n",
       "      <th>time</th>\n",
       "      <th>app</th>\n",
       "      <th>app_seq</th>\n",
       "      <th>recent_apps</th>\n",
       "    </tr>\n",
       "  </thead>\n",
       "  <tbody>\n",
       "    <tr>\n",
       "      <th>8</th>\n",
       "      <td>0</td>\n",
       "      <td>201604200816</td>\n",
       "      <td>612</td>\n",
       "      <td>[361, 361, 31, 360]</td>\n",
       "      <td>[361, 361, 31, 360]</td>\n",
       "    </tr>\n",
       "    <tr>\n",
       "      <th>10</th>\n",
       "      <td>0</td>\n",
       "      <td>201604200817</td>\n",
       "      <td>31</td>\n",
       "      <td>[361, 31, 360, 612]</td>\n",
       "      <td>[361, 361, 31, 360, 612]</td>\n",
       "    </tr>\n",
       "    <tr>\n",
       "      <th>13</th>\n",
       "      <td>0</td>\n",
       "      <td>201604200817</td>\n",
       "      <td>360</td>\n",
       "      <td>[31, 360, 612, 31]</td>\n",
       "      <td>[361, 361, 31, 360, 612, 31]</td>\n",
       "    </tr>\n",
       "    <tr>\n",
       "      <th>14</th>\n",
       "      <td>0</td>\n",
       "      <td>201604200817</td>\n",
       "      <td>361</td>\n",
       "      <td>[360, 612, 31, 360]</td>\n",
       "      <td>[361, 361, 31, 360, 612, 31, 360]</td>\n",
       "    </tr>\n",
       "    <tr>\n",
       "      <th>16</th>\n",
       "      <td>0</td>\n",
       "      <td>201604200824</td>\n",
       "      <td>1</td>\n",
       "      <td>[612, 31, 360, 361]</td>\n",
       "      <td>[361, 361, 31, 360, 612, 31, 360, 361]</td>\n",
       "    </tr>\n",
       "  </tbody>\n",
       "</table>\n",
       "</div>"
      ],
      "text/plain": [
       "    user          time  app              app_seq  \\\n",
       "8      0  201604200816  612  [361, 361, 31, 360]   \n",
       "10     0  201604200817   31  [361, 31, 360, 612]   \n",
       "13     0  201604200817  360   [31, 360, 612, 31]   \n",
       "14     0  201604200817  361  [360, 612, 31, 360]   \n",
       "16     0  201604200824    1  [612, 31, 360, 361]   \n",
       "\n",
       "                               recent_apps  \n",
       "8                      [361, 361, 31, 360]  \n",
       "10                [361, 361, 31, 360, 612]  \n",
       "13            [361, 361, 31, 360, 612, 31]  \n",
       "14       [361, 361, 31, 360, 612, 31, 360]  \n",
       "16  [361, 361, 31, 360, 612, 31, 360, 361]  "
      ]
     },
     "execution_count": 4,
     "metadata": {},
     "output_type": "execute_result"
    }
   ],
   "source": [
    "df_usage['app_seq'] = all_app_seq\n",
    "df_usage['recent_apps'] = all_recent_apps\n",
    "\n",
    "# only filled sequences are treated as data\n",
    "df_usage = df_usage[df_usage['app_seq'].map(len) != 0]\n",
    "# delete users who have sequences less than 50\n",
    "df_usage = df_usage[df_usage.groupby('user')['user'].transform('count').ge(50)]\n",
    "\n",
    "df_usage.head()"
   ]
  },
  {
   "cell_type": "code",
   "execution_count": 5,
   "metadata": {},
   "outputs": [],
   "source": [
    "df_usage.to_csv('data/baseline.txt', sep='\\t', index=False)"
   ]
  },
  {
   "cell_type": "code",
   "execution_count": null,
   "metadata": {},
   "outputs": [],
   "source": []
  }
 ],
 "metadata": {
  "kernelspec": {
   "display_name": "Python 3.8.10 ('sustech')",
   "language": "python",
   "name": "python3"
  },
  "language_info": {
   "codemirror_mode": {
    "name": "ipython",
    "version": 3
   },
   "file_extension": ".py",
   "mimetype": "text/x-python",
   "name": "python",
   "nbconvert_exporter": "python",
   "pygments_lexer": "ipython3",
   "version": "3.8.10"
  },
  "orig_nbformat": 4,
  "vscode": {
   "interpreter": {
    "hash": "0b110fdb252ba91abc1742562d19962b18e53ac9e2d9282be395e4f2a0a5c834"
   }
  }
 },
 "nbformat": 4,
 "nbformat_minor": 2
}
