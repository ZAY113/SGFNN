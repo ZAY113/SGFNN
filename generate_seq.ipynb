{
 "cells": [
  {
   "cell_type": "code",
   "execution_count": 18,
   "metadata": {},
   "outputs": [
    {
     "name": "stderr",
     "output_type": "stream",
     "text": [
      "C:\\Users\\69482\\AppData\\Local\\Temp\\ipykernel_7216\\3956847666.py:16: SettingWithCopyWarning: \n",
      "A value is trying to be set on a copy of a slice from a DataFrame.\n",
      "Try using .loc[row_indexer,col_indexer] = value instead\n",
      "\n",
      "See the caveats in the documentation: https://pandas.pydata.org/pandas-docs/stable/user_guide/indexing.html#returning-a-view-versus-a-copy\n",
      "  df_usage2['time'] = df_usage2['time'].apply(lambda x : str(x)[:-2])\n",
      "C:\\Users\\69482\\AppData\\Local\\Temp\\ipykernel_7216\\3956847666.py:17: SettingWithCopyWarning: \n",
      "A value is trying to be set on a copy of a slice from a DataFrame\n",
      "\n",
      "See the caveats in the documentation: https://pandas.pydata.org/pandas-docs/stable/user_guide/indexing.html#returning-a-view-versus-a-copy\n",
      "  df_usage2.drop_duplicates(inplace=True)\n"
     ]
    }
   ],
   "source": [
    "import pandas as pd\n",
    "import numpy as np\n",
    "import sklearn\n",
    "from sklearn.model_selection import train_test_split\n",
    "import tqdm\n",
    "import datetime\n",
    "from collections import Counter\n",
    "import matplotlib.pyplot as plt\n",
    "\n",
    "df_usage = pd.read_csv('data/App_usage_trace.txt', sep=' ', names=['user', 'time', 'location', 'app', 'traffic'])\n",
    "df_usage2 = df_usage[['user', 'time', 'app']]\n",
    "df_loc = df_usage['location']\n",
    "df_usage2.head()\n",
    "\n",
    "# merging the consecutive usage records of the same app in one minute\n",
    "df_usage2['time'] = df_usage2['time'].apply(lambda x : str(x)[:-2])\n",
    "df_usage2.drop_duplicates(inplace=True)\n",
    "\n",
    "# delete app used less than 10 times for all users\n",
    "df_usage2 = df_usage2[df_usage2.groupby('app')['app'].transform('count').ge(10)]\n",
    "\n",
    "df_usage = df_usage2.join(df_loc)"
   ]
  },
  {
   "cell_type": "code",
   "execution_count": 19,
   "metadata": {},
   "outputs": [
    {
     "name": "stderr",
     "output_type": "stream",
     "text": [
      "100%|██████████| 1123955/1123955 [09:22<00:00, 1996.95it/s]\n"
     ]
    }
   ],
   "source": [
    "prev_user = -1\n",
    "prev_time = -1\n",
    "app_seq = []\n",
    "time_seq = []\n",
    "all_app_seq = []\n",
    "all_time_seq = []\n",
    "\n",
    "seq_length = 3\n",
    "\n",
    "# df_usage is already sorted based on user and time sequence\n",
    "for i in tqdm.tqdm(range(len(df_usage))):\n",
    "    user = df_usage.iloc[i]['user']\n",
    "    app = df_usage.iloc[i]['app']\n",
    "    loc = df_usage.iloc[i]['location']\n",
    "    time = df_usage.iloc[i]['time']\n",
    "    time = datetime.datetime.strptime(time, '%Y%m%d%H%M')\n",
    "\n",
    "    if prev_user != user:\n",
    "        app_seq = [app]\n",
    "        time_seq = [time]\n",
    "        all_app_seq.append([])\n",
    "        all_time_seq.append([])\n",
    "\n",
    "    else:\n",
    "        # same sequence if the time gap between them is equal to or less than 7 mins\n",
    "        if (time - prev_time).total_seconds() // 60 <= 7:\n",
    "            if len(app_seq) == seq_length:\n",
    "                all_app_seq.append(app_seq)\n",
    "                # 差分时间\n",
    "                all_time_seq.append([(prev_time - x).total_seconds() // 60 for x in time_seq])\n",
    "                app_seq = app_seq[1:] + [app]\n",
    "                time_seq = time_seq[1:] + [time]\n",
    "            else:\n",
    "                app_seq.append(app)\n",
    "                time_seq.append(time)\n",
    "                all_app_seq.append([])\n",
    "                all_time_seq.append([])\n",
    "        else:\n",
    "            app_seq = [app]\n",
    "            time_seq = [time]\n",
    "            all_app_seq.append([])\n",
    "            all_time_seq.append([])\n",
    "        \n",
    "    prev_user = user\n",
    "    prev_time = time"
   ]
  },
  {
   "cell_type": "code",
   "execution_count": 20,
   "metadata": {},
   "outputs": [
    {
     "data": {
      "text/html": [
       "<div>\n",
       "<style scoped>\n",
       "    .dataframe tbody tr th:only-of-type {\n",
       "        vertical-align: middle;\n",
       "    }\n",
       "\n",
       "    .dataframe tbody tr th {\n",
       "        vertical-align: top;\n",
       "    }\n",
       "\n",
       "    .dataframe thead th {\n",
       "        text-align: right;\n",
       "    }\n",
       "</style>\n",
       "<table border=\"1\" class=\"dataframe\">\n",
       "  <thead>\n",
       "    <tr style=\"text-align: right;\">\n",
       "      <th></th>\n",
       "      <th>user</th>\n",
       "      <th>time</th>\n",
       "      <th>app</th>\n",
       "      <th>location</th>\n",
       "      <th>app_seq</th>\n",
       "      <th>time_seq</th>\n",
       "    </tr>\n",
       "  </thead>\n",
       "  <tbody>\n",
       "    <tr>\n",
       "      <th>7</th>\n",
       "      <td>0</td>\n",
       "      <td>201604200816</td>\n",
       "      <td>360</td>\n",
       "      <td>8194</td>\n",
       "      <td>[361, 361, 31]</td>\n",
       "      <td>[3.0, 0.0, 0.0]</td>\n",
       "    </tr>\n",
       "    <tr>\n",
       "      <th>8</th>\n",
       "      <td>0</td>\n",
       "      <td>201604200816</td>\n",
       "      <td>612</td>\n",
       "      <td>8194</td>\n",
       "      <td>[361, 31, 360]</td>\n",
       "      <td>[0.0, 0.0, 0.0]</td>\n",
       "    </tr>\n",
       "    <tr>\n",
       "      <th>10</th>\n",
       "      <td>0</td>\n",
       "      <td>201604200817</td>\n",
       "      <td>31</td>\n",
       "      <td>8194</td>\n",
       "      <td>[31, 360, 612]</td>\n",
       "      <td>[0.0, 0.0, 0.0]</td>\n",
       "    </tr>\n",
       "    <tr>\n",
       "      <th>13</th>\n",
       "      <td>0</td>\n",
       "      <td>201604200817</td>\n",
       "      <td>360</td>\n",
       "      <td>8194</td>\n",
       "      <td>[360, 612, 31]</td>\n",
       "      <td>[1.0, 1.0, 0.0]</td>\n",
       "    </tr>\n",
       "    <tr>\n",
       "      <th>14</th>\n",
       "      <td>0</td>\n",
       "      <td>201604200817</td>\n",
       "      <td>361</td>\n",
       "      <td>8194</td>\n",
       "      <td>[612, 31, 360]</td>\n",
       "      <td>[1.0, 0.0, 0.0]</td>\n",
       "    </tr>\n",
       "  </tbody>\n",
       "</table>\n",
       "</div>"
      ],
      "text/plain": [
       "    user          time  app  location         app_seq         time_seq\n",
       "7      0  201604200816  360      8194  [361, 361, 31]  [3.0, 0.0, 0.0]\n",
       "8      0  201604200816  612      8194  [361, 31, 360]  [0.0, 0.0, 0.0]\n",
       "10     0  201604200817   31      8194  [31, 360, 612]  [0.0, 0.0, 0.0]\n",
       "13     0  201604200817  360      8194  [360, 612, 31]  [1.0, 1.0, 0.0]\n",
       "14     0  201604200817  361      8194  [612, 31, 360]  [1.0, 0.0, 0.0]"
      ]
     },
     "execution_count": 20,
     "metadata": {},
     "output_type": "execute_result"
    }
   ],
   "source": [
    "df_usage['app_seq'] = all_app_seq\n",
    "df_usage['time_seq'] = all_time_seq\n",
    "\n",
    "# only filled sequences are treated as data\n",
    "df_usage = df_usage[df_usage['app_seq'].map(len) != 0]\n",
    "# delete users who have sequences less than 50\n",
    "df_usage = df_usage[df_usage.groupby('user')['user'].transform('count').ge(50)]\n",
    "\n",
    "df_usage.head()"
   ]
  },
  {
   "cell_type": "code",
   "execution_count": 21,
   "metadata": {},
   "outputs": [],
   "source": [
    "df_usage.to_csv('data/baseline_loc_time_3.txt', sep='\\t', index=False)"
   ]
  },
  {
   "cell_type": "code",
   "execution_count": null,
   "metadata": {},
   "outputs": [],
   "source": []
  }
 ],
 "metadata": {
  "kernelspec": {
   "display_name": "gnn",
   "language": "python",
   "name": "python3"
  },
  "language_info": {
   "codemirror_mode": {
    "name": "ipython",
    "version": 3
   },
   "file_extension": ".py",
   "mimetype": "text/x-python",
   "name": "python",
   "nbconvert_exporter": "python",
   "pygments_lexer": "ipython3",
   "version": "3.8.15"
  },
  "orig_nbformat": 4,
  "vscode": {
   "interpreter": {
    "hash": "fd325695c534c7fa07a1da820f9cfa44205b220c4118dad36715ebba2f677704"
   }
  }
 },
 "nbformat": 4,
 "nbformat_minor": 2
}
