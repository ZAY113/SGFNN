{
 "cells": [
  {
   "cell_type": "code",
   "execution_count": 2,
   "metadata": {},
   "outputs": [],
   "source": [
    "import pandas as pd\n",
    "import numpy as np\n",
    "import seaborn as sns\n",
    "import matplotlib.pyplot as plt\n",
    "import datetime\n",
    "import sklearn\n",
    "import tqdm\n",
    "from sklearn.model_selection import train_test_split"
   ]
  },
  {
   "cell_type": "code",
   "execution_count": 4,
   "metadata": {},
   "outputs": [
    {
     "data": {
      "text/html": [
       "<div>\n",
       "<style scoped>\n",
       "    .dataframe tbody tr th:only-of-type {\n",
       "        vertical-align: middle;\n",
       "    }\n",
       "\n",
       "    .dataframe tbody tr th {\n",
       "        vertical-align: top;\n",
       "    }\n",
       "\n",
       "    .dataframe thead th {\n",
       "        text-align: right;\n",
       "    }\n",
       "</style>\n",
       "<table border=\"1\" class=\"dataframe\">\n",
       "  <thead>\n",
       "    <tr style=\"text-align: right;\">\n",
       "      <th></th>\n",
       "      <th>user</th>\n",
       "      <th>time</th>\n",
       "      <th>app</th>\n",
       "    </tr>\n",
       "  </thead>\n",
       "  <tbody>\n",
       "    <tr>\n",
       "      <th>0</th>\n",
       "      <td>0</td>\n",
       "      <td>20160420081319</td>\n",
       "      <td>361</td>\n",
       "    </tr>\n",
       "    <tr>\n",
       "      <th>1</th>\n",
       "      <td>0</td>\n",
       "      <td>20160420081320</td>\n",
       "      <td>361</td>\n",
       "    </tr>\n",
       "    <tr>\n",
       "      <th>2</th>\n",
       "      <td>0</td>\n",
       "      <td>20160420081322</td>\n",
       "      <td>361</td>\n",
       "    </tr>\n",
       "    <tr>\n",
       "      <th>3</th>\n",
       "      <td>0</td>\n",
       "      <td>20160420081330</td>\n",
       "      <td>361</td>\n",
       "    </tr>\n",
       "    <tr>\n",
       "      <th>4</th>\n",
       "      <td>0</td>\n",
       "      <td>20160420081331</td>\n",
       "      <td>361</td>\n",
       "    </tr>\n",
       "    <tr>\n",
       "      <th>...</th>\n",
       "      <td>...</td>\n",
       "      <td>...</td>\n",
       "      <td>...</td>\n",
       "    </tr>\n",
       "    <tr>\n",
       "      <th>4171945</th>\n",
       "      <td>999</td>\n",
       "      <td>20160426221917</td>\n",
       "      <td>5</td>\n",
       "    </tr>\n",
       "    <tr>\n",
       "      <th>4171946</th>\n",
       "      <td>999</td>\n",
       "      <td>20160426221921</td>\n",
       "      <td>5</td>\n",
       "    </tr>\n",
       "    <tr>\n",
       "      <th>4171947</th>\n",
       "      <td>999</td>\n",
       "      <td>20160426222026</td>\n",
       "      <td>5</td>\n",
       "    </tr>\n",
       "    <tr>\n",
       "      <th>4171948</th>\n",
       "      <td>999</td>\n",
       "      <td>20160426223413</td>\n",
       "      <td>5</td>\n",
       "    </tr>\n",
       "    <tr>\n",
       "      <th>4171949</th>\n",
       "      <td>999</td>\n",
       "      <td>20160426225418</td>\n",
       "      <td>70</td>\n",
       "    </tr>\n",
       "  </tbody>\n",
       "</table>\n",
       "<p>4171950 rows × 3 columns</p>\n",
       "</div>"
      ],
      "text/plain": [
       "         user            time  app\n",
       "0           0  20160420081319  361\n",
       "1           0  20160420081320  361\n",
       "2           0  20160420081322  361\n",
       "3           0  20160420081330  361\n",
       "4           0  20160420081331  361\n",
       "...       ...             ...  ...\n",
       "4171945   999  20160426221917    5\n",
       "4171946   999  20160426221921    5\n",
       "4171947   999  20160426222026    5\n",
       "4171948   999  20160426223413    5\n",
       "4171949   999  20160426225418   70\n",
       "\n",
       "[4171950 rows x 3 columns]"
      ]
     },
     "execution_count": 4,
     "metadata": {},
     "output_type": "execute_result"
    }
   ],
   "source": [
    "df_usage = pd.read_csv('data/App_usage_trace.txt', sep=' ', names=['user', 'time', 'location', 'app', 'traffic'])\n",
    "df_usage = df_usage[['user', 'time', 'app']]\n",
    "df_usage"
   ]
  },
  {
   "cell_type": "code",
   "execution_count": 5,
   "metadata": {},
   "outputs": [],
   "source": [
    "# merging the consecutive usage records of the same app in one minute\n",
    "df_usage['time'] = df_usage['time'].apply(lambda x : str(x)[:-2])\n",
    "df_usage.drop_duplicates(inplace=True)"
   ]
  },
  {
   "cell_type": "code",
   "execution_count": 6,
   "metadata": {},
   "outputs": [
    {
     "data": {
      "text/html": [
       "<div>\n",
       "<style scoped>\n",
       "    .dataframe tbody tr th:only-of-type {\n",
       "        vertical-align: middle;\n",
       "    }\n",
       "\n",
       "    .dataframe tbody tr th {\n",
       "        vertical-align: top;\n",
       "    }\n",
       "\n",
       "    .dataframe thead th {\n",
       "        text-align: right;\n",
       "    }\n",
       "</style>\n",
       "<table border=\"1\" class=\"dataframe\">\n",
       "  <thead>\n",
       "    <tr style=\"text-align: right;\">\n",
       "      <th></th>\n",
       "      <th>user</th>\n",
       "      <th>time</th>\n",
       "      <th>app</th>\n",
       "    </tr>\n",
       "  </thead>\n",
       "  <tbody>\n",
       "    <tr>\n",
       "      <th>0</th>\n",
       "      <td>0</td>\n",
       "      <td>201604200813</td>\n",
       "      <td>361</td>\n",
       "    </tr>\n",
       "    <tr>\n",
       "      <th>5</th>\n",
       "      <td>0</td>\n",
       "      <td>201604200816</td>\n",
       "      <td>361</td>\n",
       "    </tr>\n",
       "    <tr>\n",
       "      <th>6</th>\n",
       "      <td>0</td>\n",
       "      <td>201604200816</td>\n",
       "      <td>31</td>\n",
       "    </tr>\n",
       "    <tr>\n",
       "      <th>7</th>\n",
       "      <td>0</td>\n",
       "      <td>201604200816</td>\n",
       "      <td>360</td>\n",
       "    </tr>\n",
       "    <tr>\n",
       "      <th>8</th>\n",
       "      <td>0</td>\n",
       "      <td>201604200816</td>\n",
       "      <td>612</td>\n",
       "    </tr>\n",
       "    <tr>\n",
       "      <th>...</th>\n",
       "      <td>...</td>\n",
       "      <td>...</td>\n",
       "      <td>...</td>\n",
       "    </tr>\n",
       "    <tr>\n",
       "      <th>4171944</th>\n",
       "      <td>999</td>\n",
       "      <td>201604262218</td>\n",
       "      <td>1</td>\n",
       "    </tr>\n",
       "    <tr>\n",
       "      <th>4171945</th>\n",
       "      <td>999</td>\n",
       "      <td>201604262219</td>\n",
       "      <td>5</td>\n",
       "    </tr>\n",
       "    <tr>\n",
       "      <th>4171947</th>\n",
       "      <td>999</td>\n",
       "      <td>201604262220</td>\n",
       "      <td>5</td>\n",
       "    </tr>\n",
       "    <tr>\n",
       "      <th>4171948</th>\n",
       "      <td>999</td>\n",
       "      <td>201604262234</td>\n",
       "      <td>5</td>\n",
       "    </tr>\n",
       "    <tr>\n",
       "      <th>4171949</th>\n",
       "      <td>999</td>\n",
       "      <td>201604262254</td>\n",
       "      <td>70</td>\n",
       "    </tr>\n",
       "  </tbody>\n",
       "</table>\n",
       "<p>1124714 rows × 3 columns</p>\n",
       "</div>"
      ],
      "text/plain": [
       "         user          time  app\n",
       "0           0  201604200813  361\n",
       "5           0  201604200816  361\n",
       "6           0  201604200816   31\n",
       "7           0  201604200816  360\n",
       "8           0  201604200816  612\n",
       "...       ...           ...  ...\n",
       "4171944   999  201604262218    1\n",
       "4171945   999  201604262219    5\n",
       "4171947   999  201604262220    5\n",
       "4171948   999  201604262234    5\n",
       "4171949   999  201604262254   70\n",
       "\n",
       "[1124714 rows x 3 columns]"
      ]
     },
     "execution_count": 6,
     "metadata": {},
     "output_type": "execute_result"
    }
   ],
   "source": [
    "df_usage"
   ]
  },
  {
   "cell_type": "code",
   "execution_count": 21,
   "metadata": {},
   "outputs": [],
   "source": [
    "# delete app used less than 10 times for all users\n",
    "df_usage = df_usage[df_usage.groupby('app')['app'].transform('count').ge(10)]"
   ]
  },
  {
   "cell_type": "code",
   "execution_count": 22,
   "metadata": {},
   "outputs": [
    {
     "data": {
      "text/html": [
       "<div>\n",
       "<style scoped>\n",
       "    .dataframe tbody tr th:only-of-type {\n",
       "        vertical-align: middle;\n",
       "    }\n",
       "\n",
       "    .dataframe tbody tr th {\n",
       "        vertical-align: top;\n",
       "    }\n",
       "\n",
       "    .dataframe thead th {\n",
       "        text-align: right;\n",
       "    }\n",
       "</style>\n",
       "<table border=\"1\" class=\"dataframe\">\n",
       "  <thead>\n",
       "    <tr style=\"text-align: right;\">\n",
       "      <th></th>\n",
       "      <th>user</th>\n",
       "      <th>time</th>\n",
       "      <th>app</th>\n",
       "    </tr>\n",
       "  </thead>\n",
       "  <tbody>\n",
       "    <tr>\n",
       "      <th>0</th>\n",
       "      <td>0</td>\n",
       "      <td>201604200813</td>\n",
       "      <td>361</td>\n",
       "    </tr>\n",
       "    <tr>\n",
       "      <th>5</th>\n",
       "      <td>0</td>\n",
       "      <td>201604200816</td>\n",
       "      <td>361</td>\n",
       "    </tr>\n",
       "    <tr>\n",
       "      <th>6</th>\n",
       "      <td>0</td>\n",
       "      <td>201604200816</td>\n",
       "      <td>31</td>\n",
       "    </tr>\n",
       "    <tr>\n",
       "      <th>7</th>\n",
       "      <td>0</td>\n",
       "      <td>201604200816</td>\n",
       "      <td>360</td>\n",
       "    </tr>\n",
       "    <tr>\n",
       "      <th>8</th>\n",
       "      <td>0</td>\n",
       "      <td>201604200816</td>\n",
       "      <td>612</td>\n",
       "    </tr>\n",
       "  </tbody>\n",
       "</table>\n",
       "</div>"
      ],
      "text/plain": [
       "   user          time  app\n",
       "0     0  201604200813  361\n",
       "5     0  201604200816  361\n",
       "6     0  201604200816   31\n",
       "7     0  201604200816  360\n",
       "8     0  201604200816  612"
      ]
     },
     "execution_count": 22,
     "metadata": {},
     "output_type": "execute_result"
    }
   ],
   "source": [
    "df_usage.head()"
   ]
  },
  {
   "cell_type": "code",
   "execution_count": 28,
   "metadata": {},
   "outputs": [
    {
     "data": {
      "text/plain": [
       "\"\\ntime1 = datetime.datetime.strptime(df_usage['time'].iloc[1], '%Y%m%d%H%M')\\ntime0 = datetime.datetime.strptime(df_usage['time'].iloc[0], '%Y%m%d%H%M')\\n(time1 - time0).total_seconds() // 60\\n\""
      ]
     },
     "execution_count": 28,
     "metadata": {},
     "output_type": "execute_result"
    }
   ],
   "source": [
    "\"\"\"\n",
    "time1 = datetime.datetime.strptime(df_usage['time'].iloc[1], '%Y%m%d%H%M')\n",
    "time0 = datetime.datetime.strptime(df_usage['time'].iloc[0], '%Y%m%d%H%M')\n",
    "(time1 - time0).total_seconds() // 60\n",
    "\"\"\""
   ]
  },
  {
   "cell_type": "code",
   "execution_count": 29,
   "metadata": {},
   "outputs": [
    {
     "name": "stderr",
     "output_type": "stream",
     "text": [
      "100%|██████████| 1123955/1123955 [06:34<00:00, 2850.68it/s]\n"
     ]
    }
   ],
   "source": [
    "prev_user = -1\n",
    "prev_time = -1\n",
    "app_seq = []\n",
    "time_seq = []\n",
    "all_app_seq = []\n",
    "all_time_seq = []\n",
    "\n",
    "seq_length = 4\n",
    "\n",
    "# df_usage is already sorted based on user and time sequence\n",
    "for i in tqdm.tqdm(range(len(df_usage))):\n",
    "    user = df_usage.iloc[i]['user']\n",
    "    app = df_usage.iloc[i]['app']\n",
    "    time = df_usage.iloc[i]['time']\n",
    "    time = datetime.datetime.strptime(time, '%Y%m%d%H%M')\n",
    "\n",
    "    if prev_user != user:\n",
    "        app_seq = [app]\n",
    "        time_seq = [time]\n",
    "        all_app_seq.append([])\n",
    "        all_time_seq.append([])\n",
    "\n",
    "    else:\n",
    "        # same sequence if the time gap between them is equal to or less than 7 mins\n",
    "        if (time - prev_time).total_seconds() // 60 <= 7:\n",
    "            if len(app_seq) == seq_length:\n",
    "                all_app_seq.append(app_seq)\n",
    "                # 差分时间\n",
    "                all_time_seq.append([(prev_time - x).total_seconds() // 60 for x in time_seq])\n",
    "                app_seq = app_seq[1:] + [app]\n",
    "                time_seq = time_seq[1:] + [time]\n",
    "            else:\n",
    "                app_seq.append(app)\n",
    "                time_seq.append(time)\n",
    "                all_app_seq.append([])\n",
    "                all_time_seq.append([])\n",
    "        else:\n",
    "            app_seq = [app]\n",
    "            time_seq = [time]\n",
    "            all_app_seq.append([])\n",
    "            all_time_seq.append([])\n",
    "        \n",
    "    prev_user = user\n",
    "    prev_time = time"
   ]
  },
  {
   "cell_type": "code",
   "execution_count": 33,
   "metadata": {},
   "outputs": [
    {
     "name": "stderr",
     "output_type": "stream",
     "text": [
      "C:\\Users\\69482\\AppData\\Local\\Temp/ipykernel_7756/688258515.py:1: SettingWithCopyWarning: \n",
      "A value is trying to be set on a copy of a slice from a DataFrame.\n",
      "Try using .loc[row_indexer,col_indexer] = value instead\n",
      "\n",
      "See the caveats in the documentation: https://pandas.pydata.org/pandas-docs/stable/user_guide/indexing.html#returning-a-view-versus-a-copy\n",
      "  df_usage['app_seq'] = all_app_seq\n",
      "C:\\Users\\69482\\AppData\\Local\\Temp/ipykernel_7756/688258515.py:2: SettingWithCopyWarning: \n",
      "A value is trying to be set on a copy of a slice from a DataFrame.\n",
      "Try using .loc[row_indexer,col_indexer] = value instead\n",
      "\n",
      "See the caveats in the documentation: https://pandas.pydata.org/pandas-docs/stable/user_guide/indexing.html#returning-a-view-versus-a-copy\n",
      "  df_usage['time_seq'] = all_time_seq\n"
     ]
    },
    {
     "data": {
      "text/html": [
       "<div>\n",
       "<style scoped>\n",
       "    .dataframe tbody tr th:only-of-type {\n",
       "        vertical-align: middle;\n",
       "    }\n",
       "\n",
       "    .dataframe tbody tr th {\n",
       "        vertical-align: top;\n",
       "    }\n",
       "\n",
       "    .dataframe thead th {\n",
       "        text-align: right;\n",
       "    }\n",
       "</style>\n",
       "<table border=\"1\" class=\"dataframe\">\n",
       "  <thead>\n",
       "    <tr style=\"text-align: right;\">\n",
       "      <th></th>\n",
       "      <th>user</th>\n",
       "      <th>time</th>\n",
       "      <th>app</th>\n",
       "      <th>app_seq</th>\n",
       "      <th>time_seq</th>\n",
       "    </tr>\n",
       "  </thead>\n",
       "  <tbody>\n",
       "    <tr>\n",
       "      <th>8</th>\n",
       "      <td>0</td>\n",
       "      <td>201604200816</td>\n",
       "      <td>612</td>\n",
       "      <td>[361, 361, 31, 360]</td>\n",
       "      <td>[3.0, 0.0, 0.0, 0.0]</td>\n",
       "    </tr>\n",
       "    <tr>\n",
       "      <th>10</th>\n",
       "      <td>0</td>\n",
       "      <td>201604200817</td>\n",
       "      <td>31</td>\n",
       "      <td>[361, 31, 360, 612]</td>\n",
       "      <td>[0.0, 0.0, 0.0, 0.0]</td>\n",
       "    </tr>\n",
       "    <tr>\n",
       "      <th>13</th>\n",
       "      <td>0</td>\n",
       "      <td>201604200817</td>\n",
       "      <td>360</td>\n",
       "      <td>[31, 360, 612, 31]</td>\n",
       "      <td>[1.0, 1.0, 1.0, 0.0]</td>\n",
       "    </tr>\n",
       "    <tr>\n",
       "      <th>14</th>\n",
       "      <td>0</td>\n",
       "      <td>201604200817</td>\n",
       "      <td>361</td>\n",
       "      <td>[360, 612, 31, 360]</td>\n",
       "      <td>[1.0, 1.0, 0.0, 0.0]</td>\n",
       "    </tr>\n",
       "    <tr>\n",
       "      <th>16</th>\n",
       "      <td>0</td>\n",
       "      <td>201604200824</td>\n",
       "      <td>1</td>\n",
       "      <td>[612, 31, 360, 361]</td>\n",
       "      <td>[1.0, 0.0, 0.0, 0.0]</td>\n",
       "    </tr>\n",
       "    <tr>\n",
       "      <th>17</th>\n",
       "      <td>0</td>\n",
       "      <td>201604200829</td>\n",
       "      <td>31</td>\n",
       "      <td>[31, 360, 361, 1]</td>\n",
       "      <td>[7.0, 7.0, 7.0, 0.0]</td>\n",
       "    </tr>\n",
       "    <tr>\n",
       "      <th>19</th>\n",
       "      <td>0</td>\n",
       "      <td>201604200829</td>\n",
       "      <td>612</td>\n",
       "      <td>[360, 361, 1, 31]</td>\n",
       "      <td>[12.0, 12.0, 5.0, 0.0]</td>\n",
       "    </tr>\n",
       "    <tr>\n",
       "      <th>20</th>\n",
       "      <td>0</td>\n",
       "      <td>201604200829</td>\n",
       "      <td>360</td>\n",
       "      <td>[361, 1, 31, 612]</td>\n",
       "      <td>[12.0, 5.0, 0.0, 0.0]</td>\n",
       "    </tr>\n",
       "    <tr>\n",
       "      <th>22</th>\n",
       "      <td>0</td>\n",
       "      <td>201604200829</td>\n",
       "      <td>4</td>\n",
       "      <td>[1, 31, 612, 360]</td>\n",
       "      <td>[5.0, 0.0, 0.0, 0.0]</td>\n",
       "    </tr>\n",
       "    <tr>\n",
       "      <th>23</th>\n",
       "      <td>0</td>\n",
       "      <td>201604200831</td>\n",
       "      <td>31</td>\n",
       "      <td>[31, 612, 360, 4]</td>\n",
       "      <td>[0.0, 0.0, 0.0, 0.0]</td>\n",
       "    </tr>\n",
       "  </tbody>\n",
       "</table>\n",
       "</div>"
      ],
      "text/plain": [
       "    user          time  app              app_seq                time_seq\n",
       "8      0  201604200816  612  [361, 361, 31, 360]    [3.0, 0.0, 0.0, 0.0]\n",
       "10     0  201604200817   31  [361, 31, 360, 612]    [0.0, 0.0, 0.0, 0.0]\n",
       "13     0  201604200817  360   [31, 360, 612, 31]    [1.0, 1.0, 1.0, 0.0]\n",
       "14     0  201604200817  361  [360, 612, 31, 360]    [1.0, 1.0, 0.0, 0.0]\n",
       "16     0  201604200824    1  [612, 31, 360, 361]    [1.0, 0.0, 0.0, 0.0]\n",
       "17     0  201604200829   31    [31, 360, 361, 1]    [7.0, 7.0, 7.0, 0.0]\n",
       "19     0  201604200829  612    [360, 361, 1, 31]  [12.0, 12.0, 5.0, 0.0]\n",
       "20     0  201604200829  360    [361, 1, 31, 612]   [12.0, 5.0, 0.0, 0.0]\n",
       "22     0  201604200829    4    [1, 31, 612, 360]    [5.0, 0.0, 0.0, 0.0]\n",
       "23     0  201604200831   31    [31, 612, 360, 4]    [0.0, 0.0, 0.0, 0.0]"
      ]
     },
     "execution_count": 33,
     "metadata": {},
     "output_type": "execute_result"
    }
   ],
   "source": [
    "df_usage['app_seq'] = all_app_seq\n",
    "df_usage['time_seq'] = all_time_seq\n",
    "\n",
    "# only filled sequences are treated as data\n",
    "df_usage = df_usage[df_usage['app_seq'].map(len) != 0]\n",
    "# delete users who have sequences less than 50\n",
    "df_usage = df_usage[df_usage.groupby('user')['user'].transform('count').ge(50)]\n",
    "\n",
    "df_usage[:10]"
   ]
  },
  {
   "cell_type": "code",
   "execution_count": 34,
   "metadata": {},
   "outputs": [
    {
     "data": {
      "text/plain": [
       "908770"
      ]
     },
     "execution_count": 34,
     "metadata": {},
     "output_type": "execute_result"
    }
   ],
   "source": [
    "len(df_usage)"
   ]
  },
  {
   "cell_type": "code",
   "execution_count": 36,
   "metadata": {},
   "outputs": [],
   "source": [
    "# represent time as weekday_time\n",
    "def prep_time(t):\n",
    "    t = t[:-2]\n",
    "    weekday = datetime.datetime.strptime(t[:-2], '%Y%m%d').weekday()\n",
    "    return '{}_{}'.format(weekday, t[-2:])\n",
    "\n",
    "df_usage['time'] = df_usage['time'].apply(lambda x : prep_time(x))"
   ]
  },
  {
   "cell_type": "code",
   "execution_count": 37,
   "metadata": {},
   "outputs": [
    {
     "data": {
      "text/html": [
       "<div>\n",
       "<style scoped>\n",
       "    .dataframe tbody tr th:only-of-type {\n",
       "        vertical-align: middle;\n",
       "    }\n",
       "\n",
       "    .dataframe tbody tr th {\n",
       "        vertical-align: top;\n",
       "    }\n",
       "\n",
       "    .dataframe thead th {\n",
       "        text-align: right;\n",
       "    }\n",
       "</style>\n",
       "<table border=\"1\" class=\"dataframe\">\n",
       "  <thead>\n",
       "    <tr style=\"text-align: right;\">\n",
       "      <th></th>\n",
       "      <th>user</th>\n",
       "      <th>time</th>\n",
       "      <th>app</th>\n",
       "      <th>app_seq</th>\n",
       "      <th>time_seq</th>\n",
       "    </tr>\n",
       "  </thead>\n",
       "  <tbody>\n",
       "    <tr>\n",
       "      <th>8</th>\n",
       "      <td>0</td>\n",
       "      <td>2_08</td>\n",
       "      <td>612</td>\n",
       "      <td>[361, 361, 31, 360]</td>\n",
       "      <td>[3.0, 0.0, 0.0, 0.0]</td>\n",
       "    </tr>\n",
       "    <tr>\n",
       "      <th>10</th>\n",
       "      <td>0</td>\n",
       "      <td>2_08</td>\n",
       "      <td>31</td>\n",
       "      <td>[361, 31, 360, 612]</td>\n",
       "      <td>[0.0, 0.0, 0.0, 0.0]</td>\n",
       "    </tr>\n",
       "    <tr>\n",
       "      <th>13</th>\n",
       "      <td>0</td>\n",
       "      <td>2_08</td>\n",
       "      <td>360</td>\n",
       "      <td>[31, 360, 612, 31]</td>\n",
       "      <td>[1.0, 1.0, 1.0, 0.0]</td>\n",
       "    </tr>\n",
       "    <tr>\n",
       "      <th>14</th>\n",
       "      <td>0</td>\n",
       "      <td>2_08</td>\n",
       "      <td>361</td>\n",
       "      <td>[360, 612, 31, 360]</td>\n",
       "      <td>[1.0, 1.0, 0.0, 0.0]</td>\n",
       "    </tr>\n",
       "    <tr>\n",
       "      <th>16</th>\n",
       "      <td>0</td>\n",
       "      <td>2_08</td>\n",
       "      <td>1</td>\n",
       "      <td>[612, 31, 360, 361]</td>\n",
       "      <td>[1.0, 0.0, 0.0, 0.0]</td>\n",
       "    </tr>\n",
       "  </tbody>\n",
       "</table>\n",
       "</div>"
      ],
      "text/plain": [
       "    user  time  app              app_seq              time_seq\n",
       "8      0  2_08  612  [361, 361, 31, 360]  [3.0, 0.0, 0.0, 0.0]\n",
       "10     0  2_08   31  [361, 31, 360, 612]  [0.0, 0.0, 0.0, 0.0]\n",
       "13     0  2_08  360   [31, 360, 612, 31]  [1.0, 1.0, 1.0, 0.0]\n",
       "14     0  2_08  361  [360, 612, 31, 360]  [1.0, 1.0, 0.0, 0.0]\n",
       "16     0  2_08    1  [612, 31, 360, 361]  [1.0, 0.0, 0.0, 0.0]"
      ]
     },
     "execution_count": 37,
     "metadata": {},
     "output_type": "execute_result"
    }
   ],
   "source": [
    "df_usage.head()"
   ]
  },
  {
   "cell_type": "code",
   "execution_count": 41,
   "metadata": {},
   "outputs": [],
   "source": [
    "user2id = {u: i for i, u in enumerate(sorted(df_usage['user'].unique()))}\n",
    "app_set = set()\n",
    "for s in df_usage['app_seq'].values:\n",
    "    app_set.update(s)\n",
    "app2id = {a: i for i, a in enumerate(sorted(app_set))}"
   ]
  },
  {
   "cell_type": "code",
   "execution_count": 45,
   "metadata": {},
   "outputs": [
    {
     "name": "stdout",
     "output_type": "stream",
     "text": [
      "user nums: 748\n",
      "app nums: 1518\n"
     ]
    }
   ],
   "source": [
    "print(\"user nums: \" + str(len(user2id)))\n",
    "print(\"app nums: \" + str(len(app2id)))"
   ]
  },
  {
   "cell_type": "code",
   "execution_count": 47,
   "metadata": {},
   "outputs": [],
   "source": [
    "def dict2file(dic, filename):\n",
    "    with open(filename, 'w') as f:\n",
    "        for k, v in dic.items():\n",
    "            f.write(\"{}\\t{}\\n\".format(k, v))"
   ]
  },
  {
   "cell_type": "code",
   "execution_count": 48,
   "metadata": {},
   "outputs": [],
   "source": [
    "dict2file(user2id, \"data/user2id.txt\")\n",
    "dict2file(app2id, \"data/app2id.txt\")"
   ]
  },
  {
   "cell_type": "code",
   "execution_count": 49,
   "metadata": {},
   "outputs": [],
   "source": [
    "df_dataset = pd.DataFrame()\n",
    "df_dataset['user'] = df_usage['user'].apply(lambda x : user2id[x])\n",
    "df_dataset['time'] = df_usage['time']\n",
    "df_dataset['app_seq'] = df_usage['app_seq'].apply(lambda x : [app2id[c] for c in x])\n",
    "df_dataset['time_seq'] = df_usage['time_seq']\n",
    "df_dataset['app'] = df_usage['app'].apply(lambda x : app2id[x])"
   ]
  },
  {
   "cell_type": "code",
   "execution_count": 50,
   "metadata": {},
   "outputs": [
    {
     "data": {
      "text/plain": [
       "(908770, 5)"
      ]
     },
     "execution_count": 50,
     "metadata": {},
     "output_type": "execute_result"
    }
   ],
   "source": [
    "df_dataset.shape"
   ]
  },
  {
   "cell_type": "code",
   "execution_count": 51,
   "metadata": {},
   "outputs": [
    {
     "data": {
      "text/html": [
       "<div>\n",
       "<style scoped>\n",
       "    .dataframe tbody tr th:only-of-type {\n",
       "        vertical-align: middle;\n",
       "    }\n",
       "\n",
       "    .dataframe tbody tr th {\n",
       "        vertical-align: top;\n",
       "    }\n",
       "\n",
       "    .dataframe thead th {\n",
       "        text-align: right;\n",
       "    }\n",
       "</style>\n",
       "<table border=\"1\" class=\"dataframe\">\n",
       "  <thead>\n",
       "    <tr style=\"text-align: right;\">\n",
       "      <th></th>\n",
       "      <th>user</th>\n",
       "      <th>time</th>\n",
       "      <th>app_seq</th>\n",
       "      <th>time_seq</th>\n",
       "      <th>app</th>\n",
       "    </tr>\n",
       "  </thead>\n",
       "  <tbody>\n",
       "    <tr>\n",
       "      <th>8</th>\n",
       "      <td>0</td>\n",
       "      <td>2_08</td>\n",
       "      <td>[290, 290, 20, 289]</td>\n",
       "      <td>[3.0, 0.0, 0.0, 0.0]</td>\n",
       "      <td>516</td>\n",
       "    </tr>\n",
       "    <tr>\n",
       "      <th>10</th>\n",
       "      <td>0</td>\n",
       "      <td>2_08</td>\n",
       "      <td>[290, 20, 289, 516]</td>\n",
       "      <td>[0.0, 0.0, 0.0, 0.0]</td>\n",
       "      <td>20</td>\n",
       "    </tr>\n",
       "    <tr>\n",
       "      <th>13</th>\n",
       "      <td>0</td>\n",
       "      <td>2_08</td>\n",
       "      <td>[20, 289, 516, 20]</td>\n",
       "      <td>[1.0, 1.0, 1.0, 0.0]</td>\n",
       "      <td>289</td>\n",
       "    </tr>\n",
       "    <tr>\n",
       "      <th>14</th>\n",
       "      <td>0</td>\n",
       "      <td>2_08</td>\n",
       "      <td>[289, 516, 20, 289]</td>\n",
       "      <td>[1.0, 1.0, 0.0, 0.0]</td>\n",
       "      <td>290</td>\n",
       "    </tr>\n",
       "    <tr>\n",
       "      <th>16</th>\n",
       "      <td>0</td>\n",
       "      <td>2_08</td>\n",
       "      <td>[516, 20, 289, 290]</td>\n",
       "      <td>[1.0, 0.0, 0.0, 0.0]</td>\n",
       "      <td>0</td>\n",
       "    </tr>\n",
       "  </tbody>\n",
       "</table>\n",
       "</div>"
      ],
      "text/plain": [
       "    user  time              app_seq              time_seq  app\n",
       "8      0  2_08  [290, 290, 20, 289]  [3.0, 0.0, 0.0, 0.0]  516\n",
       "10     0  2_08  [290, 20, 289, 516]  [0.0, 0.0, 0.0, 0.0]   20\n",
       "13     0  2_08   [20, 289, 516, 20]  [1.0, 1.0, 1.0, 0.0]  289\n",
       "14     0  2_08  [289, 516, 20, 289]  [1.0, 1.0, 0.0, 0.0]  290\n",
       "16     0  2_08  [516, 20, 289, 290]  [1.0, 0.0, 0.0, 0.0]    0"
      ]
     },
     "execution_count": 51,
     "metadata": {},
     "output_type": "execute_result"
    }
   ],
   "source": [
    "df_dataset.head()"
   ]
  },
  {
   "cell_type": "code",
   "execution_count": 52,
   "metadata": {},
   "outputs": [
    {
     "name": "stdout",
     "output_type": "stream",
     "text": [
      "(727016, 5)\n",
      "(181754, 5)\n"
     ]
    }
   ],
   "source": [
    "train, test = train_test_split(df_dataset, test_size=0.2, random_state=2021, stratify=df_dataset['user'])\n",
    "print(train.shape)\n",
    "print(test.shape)"
   ]
  },
  {
   "cell_type": "code",
   "execution_count": 53,
   "metadata": {},
   "outputs": [],
   "source": [
    "train.to_csv('data/train.txt', sep='\\t', index=False)\n",
    "test.to_csv('data/test.txt', sep='\\t', index=False)"
   ]
  },
  {
   "cell_type": "code",
   "execution_count": null,
   "metadata": {},
   "outputs": [],
   "source": []
  }
 ],
 "metadata": {
  "kernelspec": {
   "display_name": "Python 3.8.10 ('sustech')",
   "language": "python",
   "name": "python3"
  },
  "language_info": {
   "codemirror_mode": {
    "name": "ipython",
    "version": 3
   },
   "file_extension": ".py",
   "mimetype": "text/x-python",
   "name": "python",
   "nbconvert_exporter": "python",
   "pygments_lexer": "ipython3",
   "version": "3.8.10"
  },
  "orig_nbformat": 4,
  "vscode": {
   "interpreter": {
    "hash": "0b110fdb252ba91abc1742562d19962b18e53ac9e2d9282be395e4f2a0a5c834"
   }
  }
 },
 "nbformat": 4,
 "nbformat_minor": 2
}
